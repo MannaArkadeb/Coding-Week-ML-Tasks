{
 "cells": [
  {
   "cell_type": "code",
   "execution_count": 16,
   "id": "0f060608",
   "metadata": {},
   "outputs": [],
   "source": [
    "import string\n",
    "from langchain_community.tools.tavily_search import TavilySearchResults\n",
    "from langchain_core.tools import tool\n",
    "from langchain_google_genai import ChatGoogleGenerativeAI\n",
    "from langchain_core.messages import ToolMessage\n",
    "from langgraph.graph import StateGraph, END\n",
    "from langchain_core.messages import HumanMessage, AIMessage, BaseMessage\n",
    "from langchain_core.runnables import RunnableLambda\n",
    "import requests\n",
    "import operator\n",
    "from typing import Annotated, Sequence, TypedDict\n",
    "from langchain_core.prompts import ChatPromptTemplate, MessagesPlaceholder"
   ]
  },
  {
   "cell_type": "code",
   "execution_count": null,
   "id": "68759400",
   "metadata": {},
   "outputs": [],
   "source": [
    "import os\n",
    "os.environ[\"TAVILY_API_KEY\"] = \"TAVILY_API_KEY\""
   ]
  },
  {
   "cell_type": "markdown",
   "id": "0e4dff73",
   "metadata": {},
   "source": [
    "Developing the weather part of the Model"
   ]
  },
  {
   "cell_type": "code",
   "execution_count": 17,
   "id": "0f1b91c9",
   "metadata": {},
   "outputs": [],
   "source": [
    "def get_weather(city_name):\n",
    "    base_url = \"http://api.openweathermap.org/data/2.5/weather\"\n",
    "    params = {\n",
    "        'q': city_name,\n",
    "        'appid': \"24b0657c347a3437a4e07a8f8030b170\",\n",
    "        'units': 'metric'\n",
    "    }\n",
    "    response = requests.get(base_url, params=params)\n",
    "    if response.status_code == 200:\n",
    "        data = response.json()\n",
    "        weather = {\n",
    "            'city': data['name'],\n",
    "            'temperature': data['main']['temp'],\n",
    "            'weather': data['weather'][0]['description'],\n",
    "            'humidity': data['main']['humidity'],\n",
    "            'wind_speed': data['wind']['speed']\n",
    "        }\n",
    "        return weather\n",
    "    else:\n",
    "        return {'error': f\"Failed to get weather data: {response.status_code}\"}"
   ]
  },
  {
   "cell_type": "markdown",
   "id": "e78cebaf",
   "metadata": {},
   "source": [
    "Developing the tools for math agent"
   ]
  },
  {
   "cell_type": "code",
   "execution_count": 18,
   "id": "54b5c7bd",
   "metadata": {},
   "outputs": [],
   "source": [
    "@tool\n",
    "def multiply(x: float, y: float) -> float:\n",
    "    \"\"\"Multiply 'x' times 'y'.\"\"\"\n",
    "    return x * y\n",
    "\n",
    "@tool\n",
    "def add(x: float, y: float) -> float:\n",
    "    \"\"\"Add 'x' and 'y'.\"\"\"\n",
    "    return x + y\n",
    "\n",
    "@tool\n",
    "def subtract(x: float, y: float) -> float:\n",
    "    \"\"\"Subtract 'x' from 'y'.\"\"\"\n",
    "    return y - x\n",
    "\n",
    "@tool\n",
    "def divide(x: float, y: float) -> float:\n",
    "    \"\"\"Divide 'x' by 'y'.\"\"\"\n",
    "    return x / y\n",
    "\n",
    "@tool\n",
    "def exponentiate(x: float, y: float) -> float:\n",
    "    \"\"\"Raise 'x' to the 'y'.\"\"\"\n",
    "    return x ** y\n",
    "\n",
    "tools = [multiply, add, subtract, divide, exponentiate]"
   ]
  },
  {
   "cell_type": "code",
   "execution_count": null,
   "id": "fa93b3a2",
   "metadata": {},
   "outputs": [],
   "source": [
    "def create_agent(system_prompt: str, tools: list = None, llm: ChatGoogleGenerativeAI = None):\n",
    "    prompt = ChatPromptTemplate.from_messages([\n",
    "        (\"system\", system_prompt),\n",
    "        MessagesPlaceholder(variable_name=\"messages\"),\n",
    "    ])\n",
    "    if tools and llm:\n",
    "        return prompt | llm.bind_tools(tools)\n",
    "    else:\n",
    "        return prompt | llm\n",
    "\n",
    "llm = ChatGoogleGenerativeAI(\n",
    "    model=\"gemini-2.0-flash\",\n",
    "    google_api_key=\"GOOGLE_API_KEY\"\n",
    ")"
   ]
  },
  {
   "cell_type": "markdown",
   "id": "bc74e016",
   "metadata": {},
   "source": [
    "Routing logic with system Prompt"
   ]
  },
  {
   "cell_type": "code",
   "execution_count": 20,
   "id": "d5c7f7b2",
   "metadata": {},
   "outputs": [],
   "source": [
    "router_system_prompt = \"\"\"\n",
    "You are an intelligent router. Given a user's message, decide whether the task is about math, weather, or trending topics.\n",
    "Only reply with one word: \"math\", \"weather\", or \"search\".\n",
    "\"\"\"\n",
    "router_agent = create_agent(router_system_prompt, llm=llm)"
   ]
  },
  {
   "cell_type": "code",
   "execution_count": 21,
   "id": "3797d25e",
   "metadata": {},
   "outputs": [],
   "source": [
    "math_system_prompt = \"You are a math expert who can perform basic calculations.\"\n",
    "math_agent = create_agent(math_system_prompt, tools=tools, llm=llm)"
   ]
  },
  {
   "cell_type": "code",
   "execution_count": 22,
   "id": "b6a46b46",
   "metadata": {},
   "outputs": [],
   "source": [
    "def route_task(state):\n",
    "    response = router_agent.invoke({\"messages\": state[\"messages\"]})\n",
    "    decision = response.content.lower().strip()\n",
    "    if \"weather\" in decision:\n",
    "        return \"weather\"\n",
    "    elif \"search\" in decision or \"trend\" in decision:\n",
    "        return \"search\"\n",
    "    else:\n",
    "        return \"math\""
   ]
  },
  {
   "cell_type": "markdown",
   "id": "de0f6257",
   "metadata": {},
   "source": [
    "Call functions for the three features, Math, Weather Forecast by API and Trending Information via search."
   ]
  },
  {
   "cell_type": "code",
   "execution_count": 23,
   "id": "bc54acc9",
   "metadata": {},
   "outputs": [],
   "source": [
    "def call_math_model(state, config):\n",
    "    response = math_agent.invoke({\"messages\": state[\"messages\"]}, config=config)\n",
    "    print(\"Raw response:\", response)\n",
    "\n",
    "    if hasattr(response, \"tool_calls\") and response.tool_calls:\n",
    "        tool_call = response.tool_calls[0]\n",
    "        tool_name = tool_call[\"name\"]\n",
    "        tool_args = tool_call[\"args\"]\n",
    "        tool_map = {t.metadata[\"name\"]: t for t in tools}\n",
    "        tool_func = tool_map.get(tool_name)\n",
    "        if tool_func:\n",
    "            result = tool_func.invoke(tool_args)\n",
    "            print(\"Tool result:\", result)\n",
    "            return {\"messages\": [AIMessage(content=str(result))]}\n",
    "        else:\n",
    "            return {\"messages\": [AIMessage(content=\"Unknown tool requested.\")]}\n",
    "    else:\n",
    "        return {\"messages\": [response]}\n",
    "def call_weather(state):\n",
    "    user_input = state[\"messages\"][-1].content.lower()\n",
    "    city = None\n",
    "    for kw in [\"in\", \"at\"]:\n",
    "        if kw in user_input:\n",
    "            city = user_input.split(kw)[-1].strip().strip(string.punctuation)\n",
    "            break\n",
    "    if city is None:\n",
    "        city = user_input.split()[-1].strip(string.punctuation)\n",
    "    weather_data = get_weather(city)\n",
    "    return {\"messages\": [AIMessage(content=str(weather_data))]}\n",
    "\n",
    "def call_search(state):\n",
    "    user_input = state[\"messages\"][-1].content\n",
    "    search = TavilySearchResults(max_results=2)\n",
    "    result = search.invoke(user_input)\n",
    "    return {\"messages\": [AIMessage(content=str(result))]}"
   ]
  },
  {
   "cell_type": "code",
   "execution_count": 24,
   "id": "fc073f94",
   "metadata": {},
   "outputs": [],
   "source": [
    "class AgentState(TypedDict):\n",
    "    messages: Annotated[Sequence[BaseMessage], operator.add]\n",
    "\n",
    "workflow = StateGraph(AgentState)\n",
    "\n",
    "workflow.add_node(\"router\", lambda state: state)\n",
    "workflow.add_node(\"math\", call_math_model)\n",
    "workflow.add_node(\"weather\", call_weather)\n",
    "workflow.add_node(\"search\", call_search)\n",
    "\n",
    "workflow.set_entry_point(\"router\")\n",
    "\n",
    "workflow.add_conditional_edges(\n",
    "    \"router\",\n",
    "    route_task,\n",
    "    {\n",
    "        \"math\": \"math\",\n",
    "        \"weather\": \"weather\",\n",
    "        \"search\": \"search\",\n",
    "    }\n",
    ")\n",
    "\n",
    "workflow.add_edge(\"math\", END)\n",
    "workflow.add_edge(\"weather\", END)\n",
    "workflow.add_edge(\"search\", END)\n",
    "\n",
    "graph = workflow.compile()"
   ]
  },
  {
   "cell_type": "markdown",
   "id": "2e2d2e97",
   "metadata": {},
   "source": [
    "Final Graph"
   ]
  },
  {
   "cell_type": "code",
   "execution_count": 25,
   "id": "e154247f",
   "metadata": {},
   "outputs": [
    {
     "data": {
      "image/png": "[encoded data removed]",
      "text/plain": [
       "<IPython.core.display.Image object>"
      ]
     },
     "metadata": {},
     "output_type": "display_data"
    }
   ],
   "source": [
    "from IPython.display import Image, display\n",
    "\n",
    "try:\n",
    "    display(Image(graph.get_graph().draw_mermaid_png()))\n",
    "except Exception:\n",
    "    pass"
   ]
  },
  {
   "cell_type": "markdown",
   "id": "b9c9ebf1",
   "metadata": {},
   "source": [
    "Testing with System Prompt"
   ]
  },
  {
   "cell_type": "code",
   "execution_count": 26,
   "id": "23eb5ae0",
   "metadata": {},
   "outputs": [
    {
     "name": "stdout",
     "output_type": "stream",
     "text": [
      "{'city': 'Delhi', 'temperature': 29.05, 'weather': 'haze', 'humidity': 65, 'wind_speed': 2.57}\n"
     ]
    }
   ],
   "source": [
    "from langchain_core.messages import HumanMessage\n",
    "\n",
    "state = {\"messages\": [HumanMessage(content=\"What is the weather at Delhi ?\")]}\n",
    "result = graph.invoke(state, config={})\n",
    "print(result[\"messages\"][-1].content)"
   ]
  },
  {
   "cell_type": "code",
   "execution_count": 29,
   "id": "ffa5a2a1",
   "metadata": {},
   "outputs": [
    {
     "name": "stdout",
     "output_type": "stream",
     "text": [
      "[{'title': \"What's Trending In Delhi? (@delhitrends7865) - Instagram\", 'url': 'https://www.instagram.com/delhitrends7865/', 'content': '78 followers · 1 following · 12 posts · @delhitrends7865: “Typical #SouthDelhi guide to frivolous #Delhi #trends, be it #food, #fashion, #travel etc.', 'score': 0.6701125}, {'title': 'Delhi News - The Indian Express', 'url': 'https://indianexpress.com/section/cities/delhi/', 'content': 'Subscribe\\nSign In\\nTrending\\n\\nIndia Pakistan News\\nMini Crossword\\nExpress Shorts\\n🎙️ Podcast\\n📹 Videos\\nHealth & Wellness\\n\\nAdvertisement\\n\\nNews\\nCities\\nDelhi\\n\\nDELHI NEWS\\n‘This is the reality of the BJP’: AAP MP Sanjay Singh hits out at MP minister Kunwar Vijay Shah\\n\\n\\n\\nNo arrest yet after Gurgaon shopkeeper shot dead for refusing to deliver samosa\\n\\n\\n\\n‘Insult to daughters of the nation’: Amid row over MP minister’s jibe, NCW chief Vijaya Rahatkar bats for Colonel Sofiya Qureshi [...] Explained News\\nPolitical Pulse\\nLatest Opinion\\nMumbai News\\nDelhi News\\nPune News\\nBangalore News\\nBollywood News\\nHealth News\\nIndia News\\nSports News\\nLifestyle News\\nLatest News\\nCricket\\nTech Reviews\\nGadgets\\nMobile & Tabs\\nFood & Wine\\nElections\\nFitness\\n\\nTrending News [...] e-paper\\nPremium\\nIndia\\nElections 2024\\nBollywood\\n\\n\\n\\n\\nOpinion\\nPolitical Pulse\\nExplained\\nScience\\nCricket\\n\\n\\n\\n\\nSports\\nWorld\\nBusiness\\nEntertainment\\nJobs\\n\\n\\n\\n\\nHealth\\nLifestyle\\nTechnology\\nEducation\\nMovie Review\\n\\n\\n\\n\\nEye\\nTrending\\nCities\\nNewsletters\\nWebSeries\\n\\n\\n\\n\\nPhotos\\nVideos\\nAudio\\nWeb Stories\\nRSS\\n\\n\\n\\nTrending\\n\\nIndia Pakistan News\\nMini Crossword\\nExpress Shorts\\n🎙️ Podcast\\n📹 Videos\\nHealth & Wellness\\n\\nclose\\nEdition\\n\\nIndia\\n\\nInternational .(Open in new tab)\\n\\n\\nSubscribe\\n\\n\\nSign In\\n\\n\\ne-paper', 'score': 0.5255399}]\n"
     ]
    }
   ],
   "source": [
    "state = {\"messages\": [HumanMessage(content=\"What is trending at Delhi ?\")]}\n",
    "result = graph.invoke(state, config={})\n",
    "print(result[\"messages\"][-1].content)"
   ]
  },
  {
   "cell_type": "code",
   "execution_count": 31,
   "id": "9e380513",
   "metadata": {},
   "outputs": [
    {
     "name": "stdout",
     "output_type": "stream",
     "text": [
      "{'city': 'Mumbai', 'temperature': 28.99, 'weather': 'haze', 'humidity': 84, 'wind_speed': 4.12}\n"
     ]
    }
   ],
   "source": [
    "state = {\"messages\": [HumanMessage(content=\"What is the weather at Mumbai ?\")]}\n",
    "result = graph.invoke(state, config={})\n",
    "print(result[\"messages\"][-1].content)"
   ]
  },
  {
   "cell_type": "code",
   "execution_count": 32,
   "id": "57719c8b",
   "metadata": {},
   "outputs": [
    {
     "name": "stdout",
     "output_type": "stream",
     "text": [
      "[{'title': 'Monthly trending searches in Dubai, United Arab Emirates | Eventbrite', 'url': 'https://www.eventbrite.com/trending/searches/united-arab-emirates--dubai/', 'content': '24.medical\\n\\n25.investment\\n\\n26.investors networking\\n\\n27.free training dubai\\n\\n28.dj events\\n\\n29.difc\\n\\n30.fintech\\n\\n31.beach\\n\\n32.real estate investing\\n\\n33.art workshops\\n\\n34.career fair tech\\n\\n35.legal\\n\\n36.engineering\\n\\n37.yoga\\n\\n38.psychology\\n\\n39.family office\\n\\n40.webinars\\n\\n41.party\\n\\n42.womens entrepreneurship\\n\\n43.sip and paint\\n\\n44.photography\\n\\n45.pool party\\n\\n46.wealth management\\n\\n47.influencer\\n\\n48.business networking\\n\\n49.tourism\\n\\n50.finance and banking\\n\\n51.competition\\n\\n52.accounting [...] 53.speakers motivational\\n\\n54.media\\n\\n55.content creator\\n\\n56.students\\n\\n57.free events\\n\\n58.trading network\\n\\n59.pr\\n\\n60.ux\\n\\n61.tax\\n\\n62.crypto\\n\\n63.transportation and logistics\\n\\n64.forex\\n\\n65.youth\\n\\n66.yacht\\n\\n67.paid events\\n\\n68.marina bay\\n\\n69.yacht party\\n\\n70.sales\\n\\n71.dubai\\n\\n72.technology conferences\\n\\n73.social media\\n\\n74.leadership\\n\\n75.job fair\\n\\n76.innovation\\n\\n77.digital\\n\\n78.career\\n\\n79.b2b\\n\\n80.leadership talks\\n\\n81.entrepreneurship\\n\\n82.car\\n\\n83.spoken word dubai\\n\\n84.ai\\n\\n85.tech\\n\\n86.digital marketing [...] Monthly trending searches in Dubai, United Arab Emirates\\n\\nMonthly trending searches in Dubai, United Arab Emirates\\n\\nBrowse around and see what events are happening in your city.\\n\\n1.career fair\\n\\n2.may\\n\\n3.crypto summit\\n\\n4.technology\\n\\n5.job fairs\\n\\n6.networking events\\n\\n7.startup\\n\\n8.workshops\\n\\n9.marketing\\n\\n10.car show\\n\\n11.free yoga\\n\\n12.finance\\n\\n13.car meet\\n\\n14.entrepreneurs\\n\\n15.cyber security\\n\\n16.expo\\n\\n17.crypto expo\\n\\n18.beauty\\n\\n19.trading\\n\\n20.wellness\\n\\n21.dubai april\\n\\n22.education\\n\\n23.recruitment', 'score': 0.62495816}, {'title': 'Dubai Trends - TikTok', 'url': 'https://www.tiktok.com/discover/dubai-trends?lang=en', 'content': 'Discover the latest Dubai trends, from city attractions to unique experiences. Explore what makes Dubai a top travel destination!', 'score': 0.5021246}]\n"
     ]
    }
   ],
   "source": [
    "state = {\"messages\": [HumanMessage(content=\"What is trending at Dubai ?\")]}\n",
    "result = graph.invoke(state, config={})\n",
    "print(result[\"messages\"][-1].content)"
   ]
  }
 ],
 "metadata": {
  "kernelspec": {
   "display_name": "base",
   "language": "python",
   "name": "python3"
  },
  "language_info": {
   "codemirror_mode": {
    "name": "ipython",
    "version": 3
   },
   "file_extension": ".py",
   "mimetype": "text/x-python",
   "name": "python",
   "nbconvert_exporter": "python",
   "pygments_lexer": "ipython3",
   "version": "3.12.7"
  }
 },
 "nbformat": 4,
 "nbformat_minor": 5
}
