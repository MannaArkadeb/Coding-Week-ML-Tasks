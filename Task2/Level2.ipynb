{
 "cells": [
  {
   "cell_type": "code",
   "execution_count": 7,
   "id": "80778a75",
   "metadata": {},
   "outputs": [
    {
     "name": "stdout",
     "output_type": "stream",
     "text": [
      "Note: you may need to restart the kernel to use updated packages.\n"
     ]
    }
   ],
   "source": [
    "pip install -qU \"langchain[google-genai]\""
   ]
  },
  {
   "cell_type": "code",
   "execution_count": 8,
   "id": "6c04d206",
   "metadata": {},
   "outputs": [
    {
     "name": "stdout",
     "output_type": "stream",
     "text": [
      "Note: you may need to restart the kernel to use updated packages.\n"
     ]
    }
   ],
   "source": [
    "pip install langchain-core langgraph>0.2.27"
   ]
  },
  {
   "cell_type": "code",
   "execution_count": 9,
   "id": "88db52e9",
   "metadata": {},
   "outputs": [],
   "source": [
    "from langgraph.checkpoint.memory import MemorySaver\n",
    "from langgraph.graph import START, MessagesState, StateGraph\n",
    "\n",
    "workflow = StateGraph(state_schema=MessagesState)\n",
    "\n",
    "def call_model(state: MessagesState):\n",
    "    response = model.invoke(state[\"messages\"])\n",
    "    return {\"messages\": response}\n",
    "\n",
    "workflow.add_edge(START, \"model\")\n",
    "workflow.add_node(\"model\", call_model)\n",
    "\n",
    "memory = MemorySaver()\n",
    "app = workflow.compile(checkpointer=memory)"
   ]
  },
  {
   "cell_type": "code",
   "execution_count": 10,
   "id": "96754ca5",
   "metadata": {},
   "outputs": [],
   "source": [
    "config = {\"configurable\": {\"thread_id\": \"abc123\"}}"
   ]
  },
  {
   "cell_type": "code",
   "execution_count": 11,
   "id": "69d684f1",
   "metadata": {},
   "outputs": [],
   "source": [
    "workflow = StateGraph(state_schema=MessagesState)\n",
    "\n",
    "\n",
    "def call_model(state: MessagesState):\n",
    "    prompt = prompt_template.invoke(state)\n",
    "    response = model.invoke(prompt)\n",
    "    return {\"messages\": response}\n",
    "\n",
    "\n",
    "workflow.add_edge(START, \"model\")\n",
    "workflow.add_node(\"model\", call_model)\n",
    "\n",
    "memory = MemorySaver()\n",
    "app = workflow.compile(checkpointer=memory)"
   ]
  },
  {
   "cell_type": "code",
   "execution_count": 12,
   "id": "1a1d3f48",
   "metadata": {},
   "outputs": [],
   "source": [
    "from typing import Sequence\n",
    "\n",
    "from langchain_core.messages import BaseMessage\n",
    "from langgraph.graph.message import add_messages\n",
    "from typing_extensions import Annotated, TypedDict\n",
    "\n",
    "\n",
    "class State(TypedDict):\n",
    "    messages: Annotated[Sequence[BaseMessage], add_messages]\n",
    "    language: str\n",
    "\n",
    "\n",
    "workflow = StateGraph(state_schema=State)\n",
    "\n",
    "\n",
    "def call_model(state: State):\n",
    "    prompt = prompt_template.invoke(state)\n",
    "    response = model.invoke(prompt)\n",
    "    return {\"messages\": [response]}\n",
    "\n",
    "\n",
    "workflow.add_edge(START, \"model\")\n",
    "workflow.add_node(\"model\", call_model)\n",
    "\n",
    "memory = MemorySaver()\n",
    "app = workflow.compile(checkpointer=memory)"
   ]
  },
  {
   "cell_type": "code",
   "execution_count": 13,
   "id": "3a5c0677",
   "metadata": {},
   "outputs": [],
   "source": [
    "import getpass\n",
    "import os\n",
    "\n",
    "os.environ[\"TAVILY_API_KEY\"] = getpass.getpass()"
   ]
  },
  {
   "cell_type": "code",
   "execution_count": 14,
   "id": "115cb43c",
   "metadata": {},
   "outputs": [
    {
     "name": "stdout",
     "output_type": "stream",
     "text": [
      "Requirement already satisfied: langchain-community in c:\\users\\manna\\anaconda3\\lib\\site-packages (0.3.24)\n",
      "Requirement already satisfied: langgraph in c:\\users\\manna\\anaconda3\\lib\\site-packages (0.4.7)\n",
      "Requirement already satisfied: langchain-anthropic in c:\\users\\manna\\anaconda3\\lib\\site-packages (0.3.13)\n",
      "Requirement already satisfied: tavily-python in c:\\users\\manna\\anaconda3\\lib\\site-packages (0.7.2)\n",
      "Requirement already satisfied: langgraph-checkpoint-sqlite in c:\\users\\manna\\anaconda3\\lib\\site-packages (2.0.10)\n",
      "Requirement already satisfied: langchain-core<1.0.0,>=0.3.59 in c:\\users\\manna\\anaconda3\\lib\\site-packages (from langchain-community) (0.3.60)\n",
      "Requirement already satisfied: langchain<1.0.0,>=0.3.25 in c:\\users\\manna\\anaconda3\\lib\\site-packages (from langchain-community) (0.3.25)\n",
      "Requirement already satisfied: SQLAlchemy<3,>=1.4 in c:\\users\\manna\\anaconda3\\lib\\site-packages (from langchain-community) (2.0.34)\n",
      "Requirement already satisfied: requests<3,>=2 in c:\\users\\manna\\anaconda3\\lib\\site-packages (from langchain-community) (2.32.3)\n",
      "Requirement already satisfied: PyYAML>=5.3 in c:\\users\\manna\\anaconda3\\lib\\site-packages (from langchain-community) (6.0.1)\n",
      "Requirement already satisfied: aiohttp<4.0.0,>=3.8.3 in c:\\users\\manna\\anaconda3\\lib\\site-packages (from langchain-community) (3.10.5)\n",
      "Requirement already satisfied: tenacity!=8.4.0,<10,>=8.1.0 in c:\\users\\manna\\anaconda3\\lib\\site-packages (from langchain-community) (8.2.3)\n",
      "Requirement already satisfied: dataclasses-json<0.7,>=0.5.7 in c:\\users\\manna\\anaconda3\\lib\\site-packages (from langchain-community) (0.6.7)\n",
      "Requirement already satisfied: pydantic-settings<3.0.0,>=2.4.0 in c:\\users\\manna\\anaconda3\\lib\\site-packages (from langchain-community) (2.9.1)\n",
      "Requirement already satisfied: langsmith<0.4,>=0.1.125 in c:\\users\\manna\\anaconda3\\lib\\site-packages (from langchain-community) (0.3.42)\n",
      "Requirement already satisfied: httpx-sse<1.0.0,>=0.4.0 in c:\\users\\manna\\anaconda3\\lib\\site-packages (from langchain-community) (0.4.0)\n",
      "Requirement already satisfied: numpy>=1.26.2 in c:\\users\\manna\\anaconda3\\lib\\site-packages (from langchain-community) (1.26.4)\n",
      "Requirement already satisfied: langgraph-checkpoint>=2.0.26 in c:\\users\\manna\\anaconda3\\lib\\site-packages (from langgraph) (2.0.26)\n",
      "Requirement already satisfied: langgraph-prebuilt>=0.2.0 in c:\\users\\manna\\anaconda3\\lib\\site-packages (from langgraph) (0.2.1)\n",
      "Requirement already satisfied: langgraph-sdk>=0.1.42 in c:\\users\\manna\\anaconda3\\lib\\site-packages (from langgraph) (0.1.69)\n",
      "Requirement already satisfied: pydantic>=2.7.4 in c:\\users\\manna\\anaconda3\\lib\\site-packages (from langgraph) (2.11.4)\n",
      "Requirement already satisfied: xxhash>=3.5.0 in c:\\users\\manna\\anaconda3\\lib\\site-packages (from langgraph) (3.5.0)\n",
      "Requirement already satisfied: anthropic<1,>=0.51.0 in c:\\users\\manna\\anaconda3\\lib\\site-packages (from langchain-anthropic) (0.51.0)\n",
      "Requirement already satisfied: tiktoken>=0.5.1 in c:\\users\\manna\\anaconda3\\lib\\site-packages (from tavily-python) (0.9.0)\n",
      "Requirement already satisfied: httpx in c:\\users\\manna\\anaconda3\\lib\\site-packages (from tavily-python) (0.28.1)\n",
      "Requirement already satisfied: aiosqlite>=0.20 in c:\\users\\manna\\anaconda3\\lib\\site-packages (from langgraph-checkpoint-sqlite) (0.21.0)\n",
      "Requirement already satisfied: sqlite-vec>=0.1.6 in c:\\users\\manna\\anaconda3\\lib\\site-packages (from langgraph-checkpoint-sqlite) (0.1.6)\n",
      "Requirement already satisfied: aiohappyeyeballs>=2.3.0 in c:\\users\\manna\\anaconda3\\lib\\site-packages (from aiohttp<4.0.0,>=3.8.3->langchain-community) (2.4.0)\n",
      "Requirement already satisfied: aiosignal>=1.1.2 in c:\\users\\manna\\anaconda3\\lib\\site-packages (from aiohttp<4.0.0,>=3.8.3->langchain-community) (1.2.0)\n",
      "Requirement already satisfied: attrs>=17.3.0 in c:\\users\\manna\\anaconda3\\lib\\site-packages (from aiohttp<4.0.0,>=3.8.3->langchain-community) (23.1.0)\n",
      "Requirement already satisfied: frozenlist>=1.1.1 in c:\\users\\manna\\anaconda3\\lib\\site-packages (from aiohttp<4.0.0,>=3.8.3->langchain-community) (1.4.0)\n",
      "Requirement already satisfied: multidict<7.0,>=4.5 in c:\\users\\manna\\anaconda3\\lib\\site-packages (from aiohttp<4.0.0,>=3.8.3->langchain-community) (6.0.4)\n",
      "Requirement already satisfied: yarl<2.0,>=1.0 in c:\\users\\manna\\anaconda3\\lib\\site-packages (from aiohttp<4.0.0,>=3.8.3->langchain-community) (1.11.0)\n",
      "Requirement already satisfied: typing_extensions>=4.0 in c:\\users\\manna\\anaconda3\\lib\\site-packages (from aiosqlite>=0.20->langgraph-checkpoint-sqlite) (4.13.2)\n",
      "Requirement already satisfied: anyio<5,>=3.5.0 in c:\\users\\manna\\anaconda3\\lib\\site-packages (from anthropic<1,>=0.51.0->langchain-anthropic) (4.9.0)\n",
      "Requirement already satisfied: distro<2,>=1.7.0 in c:\\users\\manna\\anaconda3\\lib\\site-packages (from anthropic<1,>=0.51.0->langchain-anthropic) (1.9.0)\n",
      "Requirement already satisfied: jiter<1,>=0.4.0 in c:\\users\\manna\\anaconda3\\lib\\site-packages (from anthropic<1,>=0.51.0->langchain-anthropic) (0.10.0)\n",
      "Requirement already satisfied: sniffio in c:\\users\\manna\\anaconda3\\lib\\site-packages (from anthropic<1,>=0.51.0->langchain-anthropic) (1.3.0)\n",
      "Requirement already satisfied: marshmallow<4.0.0,>=3.18.0 in c:\\users\\manna\\anaconda3\\lib\\site-packages (from dataclasses-json<0.7,>=0.5.7->langchain-community) (3.26.1)\n",
      "Requirement already satisfied: typing-inspect<1,>=0.4.0 in c:\\users\\manna\\anaconda3\\lib\\site-packages (from dataclasses-json<0.7,>=0.5.7->langchain-community) (0.9.0)\n",
      "Requirement already satisfied: certifi in c:\\users\\manna\\anaconda3\\lib\\site-packages (from httpx->tavily-python) (2024.8.30)\n",
      "Requirement already satisfied: httpcore==1.* in c:\\users\\manna\\anaconda3\\lib\\site-packages (from httpx->tavily-python) (1.0.2)\n",
      "Requirement already satisfied: idna in c:\\users\\manna\\anaconda3\\lib\\site-packages (from httpx->tavily-python) (3.7)\n",
      "Requirement already satisfied: h11<0.15,>=0.13 in c:\\users\\manna\\anaconda3\\lib\\site-packages (from httpcore==1.*->httpx->tavily-python) (0.14.0)\n",
      "Requirement already satisfied: langchain-text-splitters<1.0.0,>=0.3.8 in c:\\users\\manna\\anaconda3\\lib\\site-packages (from langchain<1.0.0,>=0.3.25->langchain-community) (0.3.8)\n",
      "Requirement already satisfied: jsonpatch<2.0,>=1.33 in c:\\users\\manna\\anaconda3\\lib\\site-packages (from langchain-core<1.0.0,>=0.3.59->langchain-community) (1.33)\n",
      "Requirement already satisfied: packaging<25,>=23.2 in c:\\users\\manna\\anaconda3\\lib\\site-packages (from langchain-core<1.0.0,>=0.3.59->langchain-community) (24.2)\n",
      "Requirement already satisfied: ormsgpack<2.0.0,>=1.8.0 in c:\\users\\manna\\anaconda3\\lib\\site-packages (from langgraph-checkpoint>=2.0.26->langgraph) (1.9.1)\n",
      "Requirement already satisfied: orjson>=3.10.1 in c:\\users\\manna\\anaconda3\\lib\\site-packages (from langgraph-sdk>=0.1.42->langgraph) (3.10.18)\n",
      "Requirement already satisfied: requests-toolbelt<2.0.0,>=1.0.0 in c:\\users\\manna\\anaconda3\\lib\\site-packages (from langsmith<0.4,>=0.1.125->langchain-community) (1.0.0)\n",
      "Requirement already satisfied: zstandard<0.24.0,>=0.23.0 in c:\\users\\manna\\anaconda3\\lib\\site-packages (from langsmith<0.4,>=0.1.125->langchain-community) (0.23.0)\n",
      "Requirement already satisfied: annotated-types>=0.6.0 in c:\\users\\manna\\anaconda3\\lib\\site-packages (from pydantic>=2.7.4->langgraph) (0.6.0)\n",
      "Requirement already satisfied: pydantic-core==2.33.2 in c:\\users\\manna\\anaconda3\\lib\\site-packages (from pydantic>=2.7.4->langgraph) (2.33.2)\n",
      "Requirement already satisfied: typing-inspection>=0.4.0 in c:\\users\\manna\\anaconda3\\lib\\site-packages (from pydantic>=2.7.4->langgraph) (0.4.0)\n",
      "Requirement already satisfied: python-dotenv>=0.21.0 in c:\\users\\manna\\anaconda3\\lib\\site-packages (from pydantic-settings<3.0.0,>=2.4.0->langchain-community) (0.21.0)\n",
      "Requirement already satisfied: charset-normalizer<4,>=2 in c:\\users\\manna\\anaconda3\\lib\\site-packages (from requests<3,>=2->langchain-community) (3.3.2)\n",
      "Requirement already satisfied: urllib3<3,>=1.21.1 in c:\\users\\manna\\anaconda3\\lib\\site-packages (from requests<3,>=2->langchain-community) (2.2.3)\n",
      "Requirement already satisfied: greenlet!=0.4.17 in c:\\users\\manna\\anaconda3\\lib\\site-packages (from SQLAlchemy<3,>=1.4->langchain-community) (3.0.1)\n",
      "Requirement already satisfied: regex>=2022.1.18 in c:\\users\\manna\\anaconda3\\lib\\site-packages (from tiktoken>=0.5.1->tavily-python) (2024.9.11)\n",
      "Requirement already satisfied: jsonpointer>=1.9 in c:\\users\\manna\\anaconda3\\lib\\site-packages (from jsonpatch<2.0,>=1.33->langchain-core<1.0.0,>=0.3.59->langchain-community) (2.1)\n",
      "Requirement already satisfied: mypy-extensions>=0.3.0 in c:\\users\\manna\\anaconda3\\lib\\site-packages (from typing-inspect<1,>=0.4.0->dataclasses-json<0.7,>=0.5.7->langchain-community) (1.0.0)\n",
      "Note: you may need to restart the kernel to use updated packages.\n"
     ]
    }
   ],
   "source": [
    "%pip install -U langchain-community langgraph langchain-anthropic tavily-python langgraph-checkpoint-sqlite"
   ]
  },
  {
   "cell_type": "markdown",
   "id": "52352ac0",
   "metadata": {},
   "source": [
    "Getting the Weather Forecast using API call"
   ]
  },
  {
   "cell_type": "code",
   "execution_count": null,
   "id": "c5a7aff5",
   "metadata": {},
   "outputs": [
    {
     "name": "stdout",
     "output_type": "stream",
     "text": [
      "{'city': 'Kolkata', 'temperature': 30.97, 'weather': 'haze', 'humidity': 74, 'wind_speed': 4.12}\n"
     ]
    }
   ],
   "source": [
    "import requests\n",
    "\n",
    "def get_weather(city_name, api_key):\n",
    "    base_url = \"http://api.openweathermap.org/data/2.5/weather\"\n",
    "    \n",
    "    params = {\n",
    "        'q': city_name,\n",
    "        'appid': api_key,\n",
    "        'units': 'metric' \n",
    "    }\n",
    "\n",
    "    response = requests.get(base_url, params=params)\n",
    "\n",
    "    if response.status_code == 200:\n",
    "        data = response.json()\n",
    "        weather = {\n",
    "            'city': data['name'],\n",
    "            'temperature': data['main']['temp'],\n",
    "            'weather': data['weather'][0]['description'],\n",
    "            'humidity': data['main']['humidity'],\n",
    "            'wind_speed': data['wind']['speed']\n",
    "        }\n",
    "        return weather\n",
    "    else:\n",
    "        return {'error': f\"Failed to get weather data: {response.status_code}\"}\n",
    "\n",
    "api_key = \"OPEN_WEATHER_API_KEY\"\n",
    "city = \"Kolkata\"\n",
    "\n",
    "weather_info = get_weather(city, api_key)\n",
    "\n",
    "print(weather_info)\n"
   ]
  },
  {
   "cell_type": "code",
   "execution_count": 24,
   "id": "a6dc91d4",
   "metadata": {},
   "outputs": [
    {
     "name": "stdout",
     "output_type": "stream",
     "text": [
      "{'city': 'Delhi', 'temperature': 28.05, 'weather': 'haze', 'humidity': 69, 'wind_speed': 3.09}\n"
     ]
    }
   ],
   "source": [
    "weather_info = get_weather(\"Delhi\",api_key)\n",
    "print(weather_info)"
   ]
  },
  {
   "cell_type": "code",
   "execution_count": 25,
   "id": "c32200f5",
   "metadata": {},
   "outputs": [
    {
     "name": "stdout",
     "output_type": "stream",
     "text": [
      "{'city': 'Guwahati', 'temperature': 31.95, 'weather': 'haze', 'humidity': 74, 'wind_speed': 5.14}\n"
     ]
    }
   ],
   "source": [
    "weather_info = get_weather(\"Guwahati\",api_key)\n",
    "print(weather_info)"
   ]
  },
  {
   "cell_type": "markdown",
   "id": "ce5dbf9c",
   "metadata": {},
   "source": [
    "Getting trending information for various city using Tavily Search"
   ]
  },
  {
   "cell_type": "code",
   "execution_count": 16,
   "id": "6b35e7fc",
   "metadata": {},
   "outputs": [
    {
     "name": "stdout",
     "output_type": "stream",
     "text": [
      "[{'title': 'Trending in Tokyo - YouTube', 'url': 'https://www.youtube.com/playlist?list=PLKr_Y768pGvDA3wx-nMhCapTkD6SheNw4', 'content': 'Trending in Tokyo · Japanese Love Shrines and Fortunes | Hikawa Shrine in Japan Kawagoe 川越 ❤️ · Sanrio PuroLand Little Twin Stars Christmas | Vlogmas 2019.', 'score': 0.66959417}, {'title': 'New & Trending | The Official Tokyo Travel Guide, GO TOKYO', 'url': 'https://www.gotokyo.org/en/new-and-now/new-and-trending/index.html', 'content': \"Search results: 0\\n\\n\\n\\nSearch\\n\\n\\n\\nMain content starts here.\\n\\nNew & Trending\\n\\n\\n\\nExplore Tokyo Using the Metaverse and AR\\n\\nCraftsmanship in Tokyo: Japanese Craft Workshops Led by Skilled Artisans\\n\\nPerfectly Placed Cafes for Cherry Blossom Fans\\n\\nInspiring Female Chef-owned Restaurants in Tokyo\\n\\nIndulge in a Luxurious Moment at Tokyoâ\\x80\\x99s Chocolate Shops this Valentineâ\\x80\\x99s\\n\\nExplore Koenji: Tokyo's Live Music Scene\\n\\nEnjoy Tokyoâ\\x80\\x99s Winter Charm at an Ice Skating Rink\", 'score': 0.66621506}]\n"
     ]
    }
   ],
   "source": [
    "from langchain_community.tools.tavily_search import TavilySearchResults\n",
    "\n",
    "search = TavilySearchResults(max_results=2)\n",
    "search_results = search.invoke(\"what is trending in Tokyo ?\")\n",
    "print(search_results)\n",
    "tools = [search]"
   ]
  },
  {
   "cell_type": "code",
   "execution_count": 17,
   "id": "8c08fbec",
   "metadata": {},
   "outputs": [
    {
     "name": "stdout",
     "output_type": "stream",
     "text": [
      "[{'title': 'Kolkata Trends (@kolkatatrends) • Instagram photos and videos', 'url': 'https://www.instagram.com/kolkatatrends/?hl=en', 'content': \"Kolkata Trends is your one-stop fashion destination for trendy men's and women's apparel, stylish accessories, and more 🤩 Whether you're looking to elevate\", 'score': 0.7476348}, {'title': 'A weird trend : r/kolkata - Reddit', 'url': 'https://www.reddit.com/r/kolkata/comments/1i1syhs/a_weird_trend/', 'content': '403K Members 68 Online\\n•4 mo. ago\\nmyths_dark1\\nA weird trend\\nJust for Fun | নিছক মজা 🤡\\nI Kolkata spotted a weird trend in most of the shops, People were wearing jackets and sweaters also aircon or fan running in full fledged. I was like whaaatt!! Why dont you turn of Aircon amd switch to tshirt or remove your jackets atleast 😅. Is wearing winter wear a trend or something?\\nRead more \\nShare  Share \\nSort by: \\nBest\\nOpen comment sort options\\n\\nBest \\nTop \\nNew \\nControversial \\nOld \\nQ&A [...] What were they thinking? r/kolkata•8 mo. ago  r/kolkata \\nA vibrant community celebrating the essence of Kolkata, with a focus on content related to West Bengal or the Bengali community of India or abroad.\\n\\n\\n403K Members 68 Online    ### What were they thinking?    160 upvotes ·50 comments   \\n\\n\\nTrend is your Friend r/IndianDankMemes•13 days ago  r/IndianDankMemes \\nMeme Banao, Chutiya Nahi.\\n\\n\\n577K Members 122 Online    ### Trend is your Friend    777 upvotes ·6 comments [...] A weird trend : r/kolkata\\n===============\\nSkip to main contentA weird trend : r/kolkata\\nOpen menu Open navigationGo to Reddit Home\\nr/kolkata A chip A close button\\nGet App Get the Reddit app Log InLog in to Reddit\\nExpand user menu Open settings menu\\n Go to kolkata\\nr/kolkata\\n\\nr/kolkata\\nA vibrant community celebrating the essence of Kolkata, with a focus on content related to West Bengal or the Bengali community of India or abroad.', 'score': 0.7089592}]\n"
     ]
    }
   ],
   "source": [
    "search = TavilySearchResults(max_results=2)\n",
    "search_results = search.invoke(\"what is trending in Kolkata ?\")\n",
    "print(search_results)\n",
    "tools = [search]"
   ]
  },
  {
   "cell_type": "code",
   "execution_count": 23,
   "id": "2eab0829",
   "metadata": {},
   "outputs": [
    {
     "name": "stdout",
     "output_type": "stream",
     "text": [
      "[{'title': 'Delhi News - The Indian Express', 'url': 'https://indianexpress.com/section/cities/delhi/', 'content': 'Subscribe\\nSign In\\nTrending\\n\\nIndia Pakistan News\\nMini Crossword\\nExpress Shorts\\n🎙️ Podcast\\n📹 Videos\\nHealth & Wellness\\n\\nAdvertisement\\n\\nNews\\nCities\\nDelhi\\n\\nDELHI NEWS\\n‘This is the reality of the BJP’: AAP MP Sanjay Singh hits out at MP minister Kunwar Vijay Shah\\n\\n\\n\\nNo arrest yet after Gurgaon shopkeeper shot dead for refusing to deliver samosa\\n\\n\\n\\n‘Insult to daughters of the nation’: Amid row over MP minister’s jibe, NCW chief Vijaya Rahatkar bats for Colonel Sofiya Qureshi [...] Explained News\\nPolitical Pulse\\nLatest Opinion\\nMumbai News\\nDelhi News\\nPune News\\nBangalore News\\nBollywood News\\nHealth News\\nIndia News\\nSports News\\nLifestyle News\\nLatest News\\nCricket\\nTech Reviews\\nGadgets\\nMobile & Tabs\\nFood & Wine\\nElections\\nFitness\\n\\nTrending News [...] e-paper\\nPremium\\nIndia\\nElections 2024\\nBollywood\\n\\n\\n\\n\\nOpinion\\nPolitical Pulse\\nExplained\\nScience\\nCricket\\n\\n\\n\\n\\nSports\\nWorld\\nBusiness\\nEntertainment\\nJobs\\n\\n\\n\\n\\nHealth\\nLifestyle\\nTechnology\\nEducation\\nMovie Review\\n\\n\\n\\n\\nEye\\nTrending\\nCities\\nNewsletters\\nWebSeries\\n\\n\\n\\n\\nPhotos\\nVideos\\nAudio\\nWeb Stories\\nRSS\\n\\n\\n\\nTrending\\n\\nIndia Pakistan News\\nMini Crossword\\nExpress Shorts\\n🎙️ Podcast\\n📹 Videos\\nHealth & Wellness\\n\\nclose\\nEdition\\n\\nIndia\\n\\nInternational .(Open in new tab)\\n\\n\\nSubscribe\\n\\n\\nSign In\\n\\n\\ne-paper', 'score': 0.5488434}, {'title': 'Delhi Trends (@delhitrends_) • Instagram photos and videos', 'url': 'https://www.instagram.com/delhitrends_/', 'content': 'Delhi Trends Community. Delhi se hain. Use #delhitrends in your post or tag @delhitrends_ to get featured. Only Delhi based posts welcomed.', 'score': 0.53385985}]\n"
     ]
    }
   ],
   "source": [
    "search = TavilySearchResults(max_results=2)\n",
    "search_results = search.invoke(\"what is trending in Delhi ?\")\n",
    "print(search_results)\n",
    "tools = [search]"
   ]
  }
 ],
 "metadata": {
  "kernelspec": {
   "display_name": "base",
   "language": "python",
   "name": "python3"
  },
  "language_info": {
   "codemirror_mode": {
    "name": "ipython",
    "version": 3
   },
   "file_extension": ".py",
   "mimetype": "text/x-python",
   "name": "python",
   "nbconvert_exporter": "python",
   "pygments_lexer": "ipython3",
   "version": "3.12.7"
  }
 },
 "nbformat": 4,
 "nbformat_minor": 5
}
